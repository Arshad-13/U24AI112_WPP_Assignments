{
 "cells": [
  {
   "cell_type": "code",
   "execution_count": 4,
   "metadata": {},
   "outputs": [],
   "source": [
    "import numpy as np"
   ]
  },
  {
   "cell_type": "code",
   "execution_count": 3,
   "metadata": {},
   "outputs": [],
   "source": [
    "class Grid:\n",
    "    def __init__(self, x, y):\n",
    "        self.x = x\n",
    "        self.y = y\n",
    "        self.grid = np.zeros((x, y))\n",
    "        \n",
    "    def display(self):\n",
    "        print(self.grid)"
   ]
  },
  {
   "cell_type": "code",
   "execution_count": 2,
   "metadata": {},
   "outputs": [],
   "source": [
    "class Queen:\n",
    "    def __init__(self, x, y):\n",
    "        self.x = x\n",
    "        self.y = y\n",
    "        self.grid = Grid(8, 8)\n",
    "        self.grid.grid[x-1][y-1] = 1\n",
    "        self.queens = []\n",
    "        self.queens.append((x, y))\n",
    "    \n",
    "    def attacks(self):\n",
    "        for i in range(self.grid.x):\n",
    "            for j in range(self.grid.y):\n",
    "                if i == self.x-1 or j == self.y-1 or i+j == self.x+self.y-2 or i-j == self.x-self.y:\n",
    "                    self.grid.grid[i][j] -= 1\n",
    "        self.grid.grid[self.x-1][self.y-1] = 1\n",
    "        # self.grid.display()\n",
    "    def display(self):\n",
    "        # self.grid.display()\n",
    "        print(self.queens)"
   ]
  },
  {
   "cell_type": "code",
   "execution_count": 5,
   "metadata": {},
   "outputs": [],
   "source": [
    "q = Queen(5,3)\n",
    "w = Queen(3,5)\n",
    "w.attacks()"
   ]
  },
  {
   "cell_type": "code",
   "execution_count": null,
   "metadata": {},
   "outputs": [
    {
     "name": "stdout",
     "output_type": "stream",
     "text": [
      "[(3, 5)]\n"
     ]
    }
   ],
   "source": [
    "w.display()"
   ]
  }
 ],
 "metadata": {
  "kernelspec": {
   "display_name": "Python 3",
   "language": "python",
   "name": "python3"
  },
  "language_info": {
   "codemirror_mode": {
    "name": "ipython",
    "version": 3
   },
   "file_extension": ".py",
   "mimetype": "text/x-python",
   "name": "python",
   "nbconvert_exporter": "python",
   "pygments_lexer": "ipython3",
   "version": "3.13.0"
  }
 },
 "nbformat": 4,
 "nbformat_minor": 2
}
